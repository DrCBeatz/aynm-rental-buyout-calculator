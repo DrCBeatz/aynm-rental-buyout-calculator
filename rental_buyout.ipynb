{
 "cells": [
  {
   "attachments": {},
   "cell_type": "markdown",
   "metadata": {},
   "source": [
    "## AYNM Rental Buyout Calculator"
   ]
  },
  {
   "cell_type": "code",
   "execution_count": 11,
   "metadata": {},
   "outputs": [],
   "source": [
    "TAX_RATES = {\n",
    "    'ON': 0.13,      # Ontario\n",
    "    'QC': 0.14975,   # Quebec (GST + QST)\n",
    "    'BC': 0.12,      # British Columbia\n",
    "    'AB': 0.05,      # Alberta (GST only)\n",
    "    'MB': 0.12,      # Manitoba (GST + PST)\n",
    "    'NB': 0.15,      # New Brunswick\n",
    "    'NL': 0.15,      # Newfoundland and Labrador\n",
    "    'NS': 0.15,      # Nova Scotia\n",
    "    'NT': 0.05,      # Northwest Territories (GST only)\n",
    "    'NU': 0.05,      # Nunavut (GST only)\n",
    "    'PE': 0.15,      # Prince Edward Island (HST)\n",
    "    'SK': 0.11,      # Saskatchewan (GST + PST)\n",
    "    'YT': 0.05       # Yukon (GST only)\n",
    "}"
   ]
  },
  {
   "cell_type": "code",
   "execution_count": 12,
   "metadata": {},
   "outputs": [],
   "source": [
    "purchase_price = 1500.0\n",
    "monthly_payment = 50.0\n",
    "months_rented = 6\n",
    "deposit = 100.0\n",
    "province = 'ON'"
   ]
  },
  {
   "cell_type": "code",
   "execution_count": 13,
   "metadata": {},
   "outputs": [],
   "source": [
    "def calculate_balance_owing(purchase_price, monthly_payment, months_rented, deposit, province):\n",
    "    # Check if the province is in the tax rates dictionary\n",
    "    if province not in TAX_RATES:\n",
    "        raise ValueError(\"Province or Territory not found in tax rates dictionary.\")\n",
    "    \n",
    "    tax_rate = TAX_RATES[province]\n",
    "\n",
    "    # Calculate the pre-tax deposit credit\n",
    "    deposit_pre_tax = deposit / (1 + tax_rate)\n",
    "    \n",
    "    # Calculate the total rental payments (excluding tax)\n",
    "    rental_total = monthly_payment * months_rented\n",
    "\n",
    "    # Determine the credit percentage based on months rented\n",
    "    if months_rented <= 3:\n",
    "        credit_percentage = 1.0  # 100% credit for rental payments and deposit\n",
    "        credit_label = \"100%\"\n",
    "    else:\n",
    "        credit_percentage = 0.5  # 50% credit for rental payments and deposit\n",
    "        credit_label = \"50%\"\n",
    "\n",
    "    # Calculate the total credit amount\n",
    "    total_credit = credit_percentage * (rental_total + deposit_pre_tax)\n",
    "\n",
    "    # Calculate the balance owing\n",
    "    balance_owing = purchase_price - total_credit\n",
    "\n",
    "    # Output the detailed breakdown\n",
    "    print(f\"Purchase Price of Instrument: ${purchase_price:.2f}\")\n",
    "    print(f\"Monthly Rental Payment (Pre-tax): ${monthly_payment:.2f}\")\n",
    "    print(f\"Number of Months Rented: {months_rented}\")\n",
    "    print(f\"Total Rental Payments (Pre-tax): ${rental_total:.2f}\")\n",
    "    print(f\"Initial Deposit (Tax-Included): ${deposit:.2f}\")\n",
    "    print(f\"Province: {province} (Tax Rate: {tax_rate * 100:.2f}%)\")\n",
    "    print(f\"Deposit (Pre-tax Credit): ${deposit_pre_tax:.2f}\")\n",
    "    print(f\"Credit Applied: {credit_label} of Total Rental and Deposit\")\n",
    "    print(f\"Total Credit Amount: ${total_credit:.2f}\")\n",
    "    print(f\"Balance Owing: ${balance_owing:.2f}\\n\")\n",
    "\n",
    "    return total_credit, balance_owing"
   ]
  },
  {
   "cell_type": "code",
   "execution_count": 14,
   "metadata": {},
   "outputs": [],
   "source": [
    "def test_calculate_balance_owing():\n",
    "    # Test case 1: Within 3 months rental period, 100% credit\n",
    "    credit, balance = calculate_balance_owing(1500.0, 50.0, 3, 100.0, 'ON')\n",
    "    assert round(credit, 2) == 238.50, f\"Expected credit: 238.50, got: {credit}\"\n",
    "    assert round(balance, 2) == 1261.50, f\"Expected balance: 1261.50, got: {balance}\"\n",
    "\n",
    "    # Test case 2: More than 3 months rental period, 50% credit\n",
    "    credit, balance = calculate_balance_owing(1500.0, 50.0, 6, 100.0, 'ON')\n",
    "    assert round(credit, 2) == 194.25, f\"Expected credit: 194.25, got: {credit}\"\n",
    "    assert round(balance, 2) == 1305.75, f\"Expected balance: 1305.75, got: {balance}\"\n",
    "\n",
    "    # Test case 3: No rental period, only deposit is credited\n",
    "    credit, balance = calculate_balance_owing(1500.0, 50.0, 0, 100.0, 'ON')\n",
    "    assert round(credit, 2) == 88.50, f\"Expected credit: 88.50, got: {credit}\"\n",
    "    assert round(balance, 2) == 1411.50, f\"Expected balance: 1411.50, got: {balance}\"\n",
    "\n",
    "    # Test case 4: Alberta (lower tax rate), recalculated\n",
    "    credit, balance = calculate_balance_owing(1500.0, 50.0, 4, 100.0, 'AB')\n",
    "    assert round(credit, 2) == 147.62, f\"Expected credit: 147.62, got: {credit}\"\n",
    "    assert round(balance, 2) == 1352.38, f\"Expected balance: 1352.38, got: {balance}\"\n",
    "\n",
    "    print(\"All tests passed!\")"
   ]
  },
  {
   "cell_type": "code",
   "execution_count": 15,
   "metadata": {},
   "outputs": [
    {
     "name": "stdout",
     "output_type": "stream",
     "text": [
      "\n",
      "Purchase Price of Instrument: $1500.00\n",
      "Monthly Rental Payment (Pre-tax): $50.00\n",
      "Number of Months Rented: 3\n",
      "Total Rental Payments (Pre-tax): $150.00\n",
      "Initial Deposit (Tax-Included): $100.00\n",
      "Province: ON (Tax Rate: 13.00%)\n",
      "Deposit (Pre-tax Credit): $88.50\n",
      "Credit Applied: 100% of Total Rental and Deposit\n",
      "Total Credit Amount: $238.50\n",
      "Balance Owing: $1261.50\n",
      "\n",
      "Purchase Price of Instrument: $1500.00\n",
      "Monthly Rental Payment (Pre-tax): $50.00\n",
      "Number of Months Rented: 6\n",
      "Total Rental Payments (Pre-tax): $300.00\n",
      "Initial Deposit (Tax-Included): $100.00\n",
      "Province: ON (Tax Rate: 13.00%)\n",
      "Deposit (Pre-tax Credit): $88.50\n",
      "Credit Applied: 50% of Total Rental and Deposit\n",
      "Total Credit Amount: $194.25\n",
      "Balance Owing: $1305.75\n",
      "\n",
      "Purchase Price of Instrument: $1500.00\n",
      "Monthly Rental Payment (Pre-tax): $50.00\n",
      "Number of Months Rented: 0\n",
      "Total Rental Payments (Pre-tax): $0.00\n",
      "Initial Deposit (Tax-Included): $100.00\n",
      "Province: ON (Tax Rate: 13.00%)\n",
      "Deposit (Pre-tax Credit): $88.50\n",
      "Credit Applied: 100% of Total Rental and Deposit\n",
      "Total Credit Amount: $88.50\n",
      "Balance Owing: $1411.50\n",
      "\n",
      "Purchase Price of Instrument: $1500.00\n",
      "Monthly Rental Payment (Pre-tax): $50.00\n",
      "Number of Months Rented: 4\n",
      "Total Rental Payments (Pre-tax): $200.00\n",
      "Initial Deposit (Tax-Included): $100.00\n",
      "Province: AB (Tax Rate: 5.00%)\n",
      "Deposit (Pre-tax Credit): $95.24\n",
      "Credit Applied: 50% of Total Rental and Deposit\n",
      "Total Credit Amount: $147.62\n",
      "Balance Owing: $1352.38\n",
      "All tests passed!\n"
     ]
    }
   ],
   "source": [
    "test_calculate_balance_owing()"
   ]
  },
  {
   "cell_type": "code",
   "execution_count": null,
   "metadata": {},
   "outputs": [],
   "source": []
  }
 ],
 "metadata": {
  "kernelspec": {
   "display_name": "Python 3",
   "language": "python",
   "name": "python3"
  },
  "language_info": {
   "codemirror_mode": {
    "name": "ipython",
    "version": 3
   },
   "file_extension": ".py",
   "mimetype": "text/x-python",
   "name": "python",
   "nbconvert_exporter": "python",
   "pygments_lexer": "ipython3",
   "version": "3.11.1"
  },
  "orig_nbformat": 4,
  "vscode": {
   "interpreter": {
    "hash": "22483d8b1f965d2452c1b511f44a4bd7e49889fc595967579bd60fcd72e140d1"
   }
  }
 },
 "nbformat": 4,
 "nbformat_minor": 2
}
